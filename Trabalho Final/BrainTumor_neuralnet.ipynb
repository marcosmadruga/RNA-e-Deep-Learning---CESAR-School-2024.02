{
  "cells": [
    {
      "cell_type": "markdown",
      "metadata": {
        "id": "1ZJjHxrhOQVE"
      },
      "source": [
        "Alunos:\n",
        "\n",
        "* Marcos César Madruga Alves Pinheiro (mcmap@cesar.school)\n",
        "\n",
        "* Maria Paula Martins Alves (mpma@cesar.school)\n",
        "\n",
        "* Ricardo Jorge Rezende de Mello Filho ( rjrmf@cesar.school )"
      ]
    },
    {
      "cell_type": "markdown",
      "metadata": {
        "id": "mALEfpx54K7d"
      },
      "source": [
        "## Importação das bibliotecas"
      ]
    },
    {
      "cell_type": "code",
      "execution_count": null,
      "metadata": {
        "id": "aOn4IXXnGRBg"
      },
      "outputs": [],
      "source": [
        "# http://pytorch.org/\n",
        "from os.path import exists\n",
        "\n",
        "import torch"
      ]
    },
    {
      "cell_type": "code",
      "execution_count": null,
      "metadata": {
        "id": "WN69WSbu4K7f"
      },
      "outputs": [],
      "source": [
        "#Importar bibliotecas\n",
        "\n",
        "import argparse\n",
        "import torch\n",
        "import torch.nn as nn\n",
        "import torch.nn.functional as F\n",
        "import torch.optim as optim\n",
        "from torchvision import datasets, transforms\n",
        "from torchvision.transforms import v2\n",
        "from torch.utils.data import Dataset, random_split\n",
        "from torch.optim.lr_scheduler import StepLR\n",
        "from PIL import UnidentifiedImageError\n",
        "from tqdm import tqdm  # Barra de progresso (opcional, mas útil)\n",
        "import matplotlib.pyplot as plt\n",
        "import numpy as np\n",
        "import pandas as pd\n",
        "from sklearn.preprocessing import LabelEncoder, MinMaxScaler, StandardScaler\n",
        "from sklearn.model_selection import train_test_split\n",
        "\n",
        "from sklearn.metrics import classification_report\n",
        "from sklearn.metrics import confusion_matrix, ConfusionMatrixDisplay, accuracy_score\n",
        "\n",
        "import torch.nn.init as init"
      ]
    },
    {
      "cell_type": "markdown",
      "metadata": {
        "id": "sJ8iRXQXLEkv"
      },
      "source": [
        "# Importação dos Dados"
      ]
    },
    {
      "cell_type": "markdown",
      "source": [
        "https://www.kaggle.com/datasets/sartajbhuvaji/brain-tumor-classification-mri/data\n",
        "\n",
        "Os dados foram obtidos do link acima.\n",
        "\n",
        "\n",
        "Um tumor cerebral é considerado uma das doenças agressivas, tanto em crianças quanto em adultos. Os tumores cerebrais representam de 85 a 90 por cento de todos os tumores primários do Sistema Nervoso Central (SNC). Todos os anos, cerca de 11.700 pessoas são diagnosticadas com um tumor cerebral. A taxa de sobrevivência em 5 anos para pessoas com um tumor cancerígeno no cérebro ou no SNC é de aproximadamente 34% para homens e 36% para mulheres. Os Tumores Cerebrais são classificados como: Tumor Benigno, Tumor Maligno, Tumor Hipofisário, etc. Tratamento adequado, planejamento e diagnósticos precisos devem ser implementados para melhorar a expectativa de vida dos pacientes. A melhor técnica para detectar tumores cerebrais é a Ressonância Magnética (RM). Uma enorme quantidade de dados de imagem é gerada através das tomografias. Essas imagens são examinadas pelo radiologista. Um exame manual pode ser propenso a erros devido ao nível de complexidade envolvido nos tumores cerebrais e suas propriedades.\n",
        "\n",
        "A aplicação de técnicas de classificação automatizada usando Machine Learning (ML) e Inteligência Artificial (IA) tem mostrado consistentemente maior precisão do que a classificação manual. Portanto, propor um sistema que realize detecção e classificação utilizando Algoritmos de Aprendizado Profundo com Rede Neural Convolucional (CNN), Rede Neural Artificial (ANN) e Aprendizado por Transferência (TL) seria útil para médicos em todo o mundo."
      ],
      "metadata": {
        "id": "HClDJzmo6wpz"
      }
    },
    {
      "cell_type": "code",
      "execution_count": null,
      "metadata": {
        "colab": {
          "base_uri": "https://localhost:8080/"
        },
        "id": "gsBZMPPILHBx",
        "outputId": "f297e738-d31a-4f0f-d8c4-6f4819a68f23"
      },
      "outputs": [
        {
          "output_type": "stream",
          "name": "stdout",
          "text": [
            "  % Total    % Received % Xferd  Average Speed   Time    Time     Time  Current\n",
            "                                 Dload  Upload   Total   Spent    Left  Speed\n",
            "  0     0    0     0    0     0      0      0 --:--:-- --:--:-- --:--:--     0\n",
            "100 86.7M  100 86.7M    0     0  79.0M      0  0:00:01  0:00:01 --:--:--  153M\n"
          ]
        }
      ],
      "source": [
        "#!/bin/bash\n",
        "!curl -L -o /content/brain-tumor-classification-mri.zip   https://www.kaggle.com/api/v1/datasets/download/sartajbhuvaji/brain-tumor-classification-mri"
      ]
    },
    {
      "cell_type": "code",
      "execution_count": null,
      "metadata": {
        "id": "_O6EtlQrLX24"
      },
      "outputs": [],
      "source": [
        "!unzip -q -o /content/brain-tumor-classification-mri.zip -d /content/brain-tumor-classification-mri\n"
      ]
    },
    {
      "cell_type": "code",
      "execution_count": null,
      "metadata": {
        "id": "GFHMuoj3LhoK"
      },
      "outputs": [],
      "source": [
        "#Criação das pastas\n",
        "\n",
        "brain_tumor_folder_train = \"/content/brain-tumor-classification-mri/Training\"\n",
        "# brain_tumor_folder_test = \"/content/brain-tumor-classification-mri/Testing\""
      ]
    },
    {
      "cell_type": "markdown",
      "source": [
        "#Metodologia do Projeto"
      ],
      "metadata": {
        "id": "9-OdutKOGISj"
      }
    },
    {
      "cell_type": "markdown",
      "source": [
        "**Objetivo do Projeto**: Treinar o modelo para realizar a classificação correta das imagens da ressonância magnética\n",
        "\n",
        "**Metodologia utilizada**\n",
        "\n",
        "\n",
        "* Os Dados originais foram divididos em 2 datasets (Treino e Teste - 70% Treino e 30% Teste)\n",
        "* Foram realizadas transformações nas imagens para serem usadas como entradas da rede (redimensionalização, transformação para escala de cinza)\n",
        "* Foram criados data_loaders para dividir os dados em mini_batch e aprimorar o treinamento do modelo\n",
        "* Foi criada uma rede neural para realizar a classificação das imagens usando hidden layers e função de ativação Relu\n",
        "* A rede foi treinada com os dados de treino e testadas com os dados de teste.\n",
        "* A avaliação foi feita com base na eficácia do modelo para os dois cenários (Treino e Teste)\n",
        "* Durante o treinamento foram testados e avaliados diferentes parâmetros de learning rate (utilizando ajustes dinâmicos com StepLR), batch_size, optimizers.\n",
        "* A solução apresentada nesse projeto é a combinação dos parâmetros que apresentou bons resultados em teste e treino sem overfitting ou underfitting\n",
        "\n"
      ],
      "metadata": {
        "id": "Luw5aFRGGKXD"
      }
    },
    {
      "cell_type": "markdown",
      "source": [
        "#Criação de Datasets de Treino e Teste"
      ],
      "metadata": {
        "id": "BNz1oBaK7xNJ"
      }
    },
    {
      "cell_type": "code",
      "execution_count": null,
      "metadata": {
        "id": "cQU72_IshSAG"
      },
      "outputs": [],
      "source": [
        "#Transform a ser aplicados nas imagens originais\n",
        "\n",
        "transform = transforms.Compose([\n",
        "    transforms.Resize((128, 128)),\n",
        "    transforms.ToTensor(),\n",
        "    transforms.Grayscale(),\n",
        "    transforms.RandomHorizontalFlip(p= 0.5),\n",
        "    transforms.Normalize(mean=[0.5],std=[0.5])\n",
        "\n",
        "])\n",
        "\n"
      ]
    },
    {
      "cell_type": "code",
      "execution_count": null,
      "metadata": {
        "id": "0pXks6a8hSCL"
      },
      "outputs": [],
      "source": [
        "#Subclasse personalizada para avaliar dificuldade em abrir alguma imagem\n",
        "\n",
        "class Dataset(datasets.ImageFolder):\n",
        "  def __getitem__(self, index):\n",
        "    try:\n",
        "      return super(Dataset, self).__getitem__(index)\n",
        "    except UnidentifiedImageError:\n",
        "      print(f\"Pulou Imagem problematica no indice {index}\")\n",
        "      return None"
      ]
    },
    {
      "cell_type": "code",
      "execution_count": null,
      "metadata": {
        "id": "sEB22sf3hSEh"
      },
      "outputs": [],
      "source": [
        "# dataset_test = Dataset(brain_tumor_folder_test,transform)\n",
        "# dataset_train = Dataset(brain_tumor_folder_train, transform)"
      ]
    },
    {
      "cell_type": "code",
      "source": [
        "#Criação do Dataset e sua divisão em treino e teste (70/30)\n",
        "\n",
        "dataset = Dataset(brain_tumor_folder_train, transform)\n",
        "dataset_train, dataset_test = random_split(dataset, [0.7, 0.3])"
      ],
      "metadata": {
        "id": "XFTW1HMl_ipg"
      },
      "execution_count": null,
      "outputs": []
    },
    {
      "cell_type": "code",
      "execution_count": null,
      "metadata": {
        "colab": {
          "base_uri": "https://localhost:8080/"
        },
        "id": "UzMnw0x_8ZzC",
        "outputId": "8025a8fe-e00d-45d4-8a56-a31125cfff5f"
      },
      "outputs": [
        {
          "output_type": "execute_result",
          "data": {
            "text/plain": [
              "2009"
            ]
          },
          "metadata": {},
          "execution_count": 10
        }
      ],
      "source": [
        "#Comprimento dos dados de treino\n",
        "len(dataset_train)"
      ]
    },
    {
      "cell_type": "code",
      "source": [
        "#Comprimento dos dados de teste\n",
        "len(dataset_test)"
      ],
      "metadata": {
        "colab": {
          "base_uri": "https://localhost:8080/"
        },
        "id": "YZi3pFYbwju4",
        "outputId": "a10b9abf-1af8-4abc-8223-cdf7febd30e4"
      },
      "execution_count": null,
      "outputs": [
        {
          "output_type": "execute_result",
          "data": {
            "text/plain": [
              "861"
            ]
          },
          "metadata": {},
          "execution_count": 11
        }
      ]
    },
    {
      "cell_type": "code",
      "source": [
        "#Classes do dateset\n",
        "dataset_train.dataset.classes"
      ],
      "metadata": {
        "colab": {
          "base_uri": "https://localhost:8080/"
        },
        "id": "ZXfc7K_SmpBQ",
        "outputId": "34da6590-3eb0-49c2-d8c1-f034e83901e4"
      },
      "execution_count": null,
      "outputs": [
        {
          "output_type": "execute_result",
          "data": {
            "text/plain": [
              "['glioma_tumor', 'meningioma_tumor', 'no_tumor', 'pituitary_tumor']"
            ]
          },
          "metadata": {},
          "execution_count": 12
        }
      ]
    },
    {
      "cell_type": "markdown",
      "source": [
        "#Criação e Avaliação do Modelo"
      ],
      "metadata": {
        "id": "P2ZPzt4tF2t3"
      }
    },
    {
      "cell_type": "code",
      "source": [],
      "metadata": {
        "id": "xyly5NKaF4VZ"
      },
      "execution_count": null,
      "outputs": []
    },
    {
      "cell_type": "markdown",
      "metadata": {
        "id": "4T8iS1Jc4K7q"
      },
      "source": [
        "## Criação da rede"
      ]
    },
    {
      "cell_type": "code",
      "execution_count": null,
      "metadata": {
        "id": "RUi00oew4K7q"
      },
      "outputs": [],
      "source": [
        "input_size = 128*128\n",
        "output_size = 4\n",
        "class Net(nn.Module):\n",
        "    def __init__(self):\n",
        "        super(Net, self).__init__()\n",
        "        self.fc = nn.Sequential(\n",
        "            nn.Linear(input_size, 128),\n",
        "            nn.ReLU(),\n",
        "            nn.Linear(128, 256),\n",
        "            nn.ReLU(),\n",
        "            nn.Linear(256, 512),\n",
        "            nn.ReLU(),\n",
        "            nn.Linear(512, 1024),\n",
        "            nn.ReLU(),\n",
        "            nn.Linear(1024, 2048),\n",
        "            nn.ReLU(),\n",
        "            nn.Linear(2048, 4096),\n",
        "            nn.ReLU(),\n",
        "            nn.Linear(4096, 2048),\n",
        "            nn.ReLU(),\n",
        "            nn.Linear(2048, 1024),\n",
        "            nn.ReLU(),\n",
        "            nn.Linear(1024, 512),\n",
        "            nn.ReLU(),\n",
        "            nn.Linear(512, 256),\n",
        "            nn.ReLU(),\n",
        "            nn.Linear(256, 128),\n",
        "            nn.ReLU(),\n",
        "            nn.Linear(128, output_size)\n",
        "        )\n",
        "\n",
        "    def forward(self, x):\n",
        "        x = x.view(-1, input_size)\n",
        "        x = self.fc(x)\n",
        "        output = F.log_softmax(x, dim=1)\n",
        "        return output\n",
        "\n",
        "model = Net()"
      ]
    },
    {
      "cell_type": "code",
      "source": [
        "# # Inicializando os pesos das camadas lineares com a técnica He\n",
        "# for m in model.modules():\n",
        "#     if isinstance(m, nn.Linear):\n",
        "#         init.kaiming_normal_(m.weight, mode='fan_in', nonlinearity='relu')\n",
        "#         if m.bias is not None:\n",
        "#             nn.init.zeros_(m.bias)"
      ],
      "metadata": {
        "id": "qjImMSbiKFXZ"
      },
      "execution_count": null,
      "outputs": []
    },
    {
      "cell_type": "code",
      "execution_count": null,
      "metadata": {
        "colab": {
          "base_uri": "https://localhost:8080/"
        },
        "id": "DJm6XoowVGQO",
        "outputId": "7a1205b8-5451-4a70-ec3f-8a6bd8a13208"
      },
      "outputs": [
        {
          "output_type": "execute_result",
          "data": {
            "text/plain": [
              "Net(\n",
              "  (fc): Sequential(\n",
              "    (0): Linear(in_features=16384, out_features=128, bias=True)\n",
              "    (1): ReLU()\n",
              "    (2): Linear(in_features=128, out_features=256, bias=True)\n",
              "    (3): ReLU()\n",
              "    (4): Linear(in_features=256, out_features=512, bias=True)\n",
              "    (5): ReLU()\n",
              "    (6): Linear(in_features=512, out_features=1024, bias=True)\n",
              "    (7): ReLU()\n",
              "    (8): Linear(in_features=1024, out_features=2048, bias=True)\n",
              "    (9): ReLU()\n",
              "    (10): Linear(in_features=2048, out_features=4096, bias=True)\n",
              "    (11): ReLU()\n",
              "    (12): Linear(in_features=4096, out_features=2048, bias=True)\n",
              "    (13): ReLU()\n",
              "    (14): Linear(in_features=2048, out_features=1024, bias=True)\n",
              "    (15): ReLU()\n",
              "    (16): Linear(in_features=1024, out_features=512, bias=True)\n",
              "    (17): ReLU()\n",
              "    (18): Linear(in_features=512, out_features=256, bias=True)\n",
              "    (19): ReLU()\n",
              "    (20): Linear(in_features=256, out_features=128, bias=True)\n",
              "    (21): ReLU()\n",
              "    (22): Linear(in_features=128, out_features=4, bias=True)\n",
              "  )\n",
              ")"
            ]
          },
          "metadata": {},
          "execution_count": 15
        }
      ],
      "source": [
        "#Estrutura da Rede Neural\n",
        "\n",
        "model\n"
      ]
    },
    {
      "cell_type": "markdown",
      "metadata": {
        "id": "400Lbat24K7v"
      },
      "source": [
        "## Treinamento"
      ]
    },
    {
      "cell_type": "code",
      "execution_count": null,
      "metadata": {
        "id": "xuVhZayVoNhC"
      },
      "outputs": [],
      "source": [
        "model = Net()"
      ]
    },
    {
      "cell_type": "code",
      "execution_count": null,
      "metadata": {
        "colab": {
          "base_uri": "https://localhost:8080/"
        },
        "id": "ONoD9Sq7oQwE",
        "outputId": "15c85159-c683-4133-a54a-4d7bb0c292ed"
      },
      "outputs": [
        {
          "output_type": "execute_result",
          "data": {
            "text/plain": [
              "tensor([[-1.3795, -1.4403, -1.3062, -1.4247]], grad_fn=<LogSoftmaxBackward0>)"
            ]
          },
          "metadata": {},
          "execution_count": 17
        }
      ],
      "source": [
        "#Predição de um valor específico do treino\n",
        "model(dataset_train[10][0])\n",
        "\n"
      ]
    },
    {
      "cell_type": "markdown",
      "metadata": {
        "id": "2cqllMDO4K7y"
      },
      "source": [
        "### Criando os objetos de treinamento e teste"
      ]
    },
    {
      "cell_type": "code",
      "execution_count": null,
      "metadata": {
        "id": "OAEOQoZy4K72"
      },
      "outputs": [],
      "source": [
        "#log_interval: Um número inteiro que especifica a cada quantos lotes (batches) a informação sobre o progresso do treinamento deve ser impressa (perda, porcentagem concluída, etc.).\n",
        "#dry_run: Um valor booleano. Se for True, a função executará apenas um lote de treinamento e depois parará. Isso é útil para verificar se o código básico de treinamento está funcionando sem ter que esperar que uma época inteira termine\n",
        "\n",
        "def train(log_interval, dry_run, model, device, train_loader, optimizer, epoch, criterion):\n",
        "    model.train()\n",
        "    correct=0\n",
        "    for batch_idx, (data, target) in enumerate(train_loader):\n",
        "        # correct = 0 # Madruga\n",
        "        data, target = data.to(device), target.to(device)\n",
        "        optimizer.zero_grad() #Zera os gradientes\n",
        "        output = model(data) #Roda o modelo para prever os dados\n",
        "        loss = criterion(output, target) #Cálcula a função de perda\n",
        "        loss.backward() ##Back propagation\n",
        "        optimizer.step() #Utiliza os gradientes calculados no passo anterior para atualizar os pesos do modelo de acordo com o algoritmo de otimização especificado (por exemplo, Adam, SGD)\n",
        "        # Número de acertos no mini-batch\n",
        "        pred = output.argmax(dim=1, keepdim=True)  # Pega a classe com maior probabilidade calculada\n",
        "        correct += pred.eq(target.view_as(pred)).sum().item() #Soma acumulada da quantidade de predições corretas\n",
        "        if batch_idx % log_interval == 0: #Informações sobre o progresso do treinamento\n",
        "            # print('Train Epoch: {} [{}/{} ({:.0f}%)]\\tLoss: {:.6f}'.format(\n",
        "            #     epoch, batch_idx * len(data), len(train_loader.dataset),\n",
        "            #     100. * batch_idx / len(train_loader), loss.item()))\n",
        "            print('Train Epoch: {} [{}/{} ({:.0f}%)]\\tLoss: {:.6f} | Acertos acumulados: {}'.format(\n",
        "                epoch,\n",
        "                batch_idx * len(data),\n",
        "                len(train_loader.dataset),\n",
        "                100. * batch_idx / len(train_loader),\n",
        "                loss.item(),\n",
        "                correct ))#100. * correct / len(data)))\n",
        "\n",
        "            if dry_run:\n",
        "                break\n",
        "    print(f'Acertos final: {correct}')\n",
        "    print(f'Acurácia final: {correct/len(dataset_train):.3f}')"
      ]
    },
    {
      "cell_type": "code",
      "source": [
        "\n",
        "def test(model, device, test_loader, criterion):\n",
        "    model.eval() #Modo avaliação\n",
        "    test_loss = 0\n",
        "    correct = 0\n",
        "    with torch.no_grad(): #Desativa o cálculo do gradiente\n",
        "        for data, target in test_loader:\n",
        "            data, target = data.to(device), target.to(device)\n",
        "            output = model(data) #Previsão do modelo\n",
        "            test_loss += F.nll_loss(output, target, reduction='sum').item()  # Soma das perdas\n",
        "            pred = output.argmax(dim=1, keepdim=True)  #Predição do valor com a maior probabilidade\n",
        "            correct += pred.eq(target.view_as(pred)).sum().item()\n",
        "\n",
        "    test_loss /= len(test_loader.dataset)\n",
        "    acc = 100. * correct / len(test_loader.dataset)\n",
        "\n",
        "    print('\\nTest set: Average loss: {:.4f}, Accuracy: {}/{} ({:.0f}%)\\n'.format(\n",
        "        test_loss, correct, len(test_loader.dataset),\n",
        "        acc))\n",
        "    return acc"
      ],
      "metadata": {
        "id": "xsHbOIxwo985"
      },
      "execution_count": null,
      "outputs": []
    },
    {
      "cell_type": "markdown",
      "metadata": {
        "id": "kxdm4FTK4K8E"
      },
      "source": [
        "## Avaliação"
      ]
    },
    {
      "cell_type": "code",
      "execution_count": null,
      "metadata": {
        "id": "vT9HxN6Lo4zq"
      },
      "outputs": [],
      "source": [
        "def custom_collate(batch):\n",
        "  batch = list(filter(lambda x: x is not None, batch))\n",
        "  return torch.utils.data.default_collate(batch)"
      ]
    },
    {
      "cell_type": "code",
      "execution_count": null,
      "metadata": {
        "colab": {
          "base_uri": "https://localhost:8080/"
        },
        "id": "kgH7e25qb_-K",
        "outputId": "ab9a4f23-ef59-425f-f3d5-7587b22eec7f"
      },
      "outputs": [
        {
          "output_type": "stream",
          "name": "stdout",
          "text": [
            "\n",
            "Test set: Average loss: 1.3841, Accuracy: 251/861 (29%)\n",
            "\n",
            "Train Epoch: 1 [0/2009 (0%)]\tLoss: 1.390761 | Acertos acumulados: 14\n",
            "Train Epoch: 1 [640/2009 (31%)]\tLoss: 1.407458 | Acertos acumulados: 226\n",
            "Train Epoch: 1 [1280/2009 (62%)]\tLoss: 1.316689 | Acertos acumulados: 401\n",
            "Train Epoch: 1 [1920/2009 (94%)]\tLoss: 1.332931 | Acertos acumulados: 599\n",
            "Acertos final: 610\n",
            "Acurácia final: 0.304\n",
            "\n",
            "Test set: Average loss: 1.3315, Accuracy: 345/861 (40%)\n",
            "\n",
            "Train Epoch: 2 [0/2009 (0%)]\tLoss: 1.327795 | Acertos acumulados: 24\n",
            "Train Epoch: 2 [640/2009 (31%)]\tLoss: 1.415927 | Acertos acumulados: 226\n",
            "Train Epoch: 2 [1280/2009 (62%)]\tLoss: 1.266487 | Acertos acumulados: 452\n",
            "Train Epoch: 2 [1920/2009 (94%)]\tLoss: 1.332077 | Acertos acumulados: 678\n",
            "Acertos final: 682\n",
            "Acurácia final: 0.339\n",
            "\n",
            "Test set: Average loss: 1.2976, Accuracy: 260/861 (30%)\n",
            "\n",
            "Train Epoch: 3 [0/2009 (0%)]\tLoss: 1.276804 | Acertos acumulados: 20\n",
            "Train Epoch: 3 [640/2009 (31%)]\tLoss: 1.465487 | Acertos acumulados: 227\n",
            "Train Epoch: 3 [1280/2009 (62%)]\tLoss: 1.289128 | Acertos acumulados: 398\n",
            "Train Epoch: 3 [1920/2009 (94%)]\tLoss: 1.381622 | Acertos acumulados: 591\n",
            "Acertos final: 599\n",
            "Acurácia final: 0.298\n",
            "\n",
            "Test set: Average loss: 1.3249, Accuracy: 284/861 (33%)\n",
            "\n",
            "Train Epoch: 4 [0/2009 (0%)]\tLoss: 1.321062 | Acertos acumulados: 23\n",
            "Train Epoch: 4 [640/2009 (31%)]\tLoss: 1.397091 | Acertos acumulados: 201\n",
            "Train Epoch: 4 [1280/2009 (62%)]\tLoss: 1.244614 | Acertos acumulados: 395\n",
            "Train Epoch: 4 [1920/2009 (94%)]\tLoss: 1.299161 | Acertos acumulados: 622\n",
            "Acertos final: 631\n",
            "Acurácia final: 0.314\n",
            "\n",
            "Test set: Average loss: 1.2810, Accuracy: 307/861 (36%)\n",
            "\n",
            "Train Epoch: 5 [0/2009 (0%)]\tLoss: 1.238626 | Acertos acumulados: 25\n",
            "Train Epoch: 5 [640/2009 (31%)]\tLoss: 1.371596 | Acertos acumulados: 248\n",
            "Train Epoch: 5 [1280/2009 (62%)]\tLoss: 1.245658 | Acertos acumulados: 439\n",
            "Train Epoch: 5 [1920/2009 (94%)]\tLoss: 1.353024 | Acertos acumulados: 653\n",
            "Acertos final: 660\n",
            "Acurácia final: 0.329\n",
            "\n",
            "Test set: Average loss: 1.2794, Accuracy: 283/861 (33%)\n",
            "\n",
            "Train Epoch: 6 [0/2009 (0%)]\tLoss: 1.299710 | Acertos acumulados: 26\n",
            "Train Epoch: 6 [640/2009 (31%)]\tLoss: 1.493530 | Acertos acumulados: 235\n",
            "Train Epoch: 6 [1280/2009 (62%)]\tLoss: 1.238312 | Acertos acumulados: 468\n",
            "Train Epoch: 6 [1920/2009 (94%)]\tLoss: 1.312664 | Acertos acumulados: 697\n",
            "Acertos final: 704\n",
            "Acurácia final: 0.350\n",
            "\n",
            "Test set: Average loss: 1.2580, Accuracy: 332/861 (39%)\n",
            "\n",
            "Train Epoch: 7 [0/2009 (0%)]\tLoss: 1.206674 | Acertos acumulados: 27\n",
            "Train Epoch: 7 [640/2009 (31%)]\tLoss: 1.336984 | Acertos acumulados: 221\n",
            "Train Epoch: 7 [1280/2009 (62%)]\tLoss: 1.092298 | Acertos acumulados: 479\n",
            "Train Epoch: 7 [1920/2009 (94%)]\tLoss: 1.238035 | Acertos acumulados: 729\n",
            "Acertos final: 741\n",
            "Acurácia final: 0.369\n",
            "\n",
            "Test set: Average loss: 1.2030, Accuracy: 351/861 (41%)\n",
            "\n",
            "Train Epoch: 8 [0/2009 (0%)]\tLoss: 1.178306 | Acertos acumulados: 24\n",
            "Train Epoch: 8 [640/2009 (31%)]\tLoss: 1.231020 | Acertos acumulados: 274\n",
            "Train Epoch: 8 [1280/2009 (62%)]\tLoss: 1.054846 | Acertos acumulados: 560\n",
            "Train Epoch: 8 [1920/2009 (94%)]\tLoss: 1.263928 | Acertos acumulados: 827\n",
            "Acertos final: 840\n",
            "Acurácia final: 0.418\n",
            "\n",
            "Test set: Average loss: 1.2345, Accuracy: 370/861 (43%)\n",
            "\n",
            "Train Epoch: 9 [0/2009 (0%)]\tLoss: 1.226439 | Acertos acumulados: 24\n",
            "Train Epoch: 9 [640/2009 (31%)]\tLoss: 1.233339 | Acertos acumulados: 275\n",
            "Train Epoch: 9 [1280/2009 (62%)]\tLoss: 1.120589 | Acertos acumulados: 552\n",
            "Train Epoch: 9 [1920/2009 (94%)]\tLoss: 1.210024 | Acertos acumulados: 815\n",
            "Acertos final: 824\n",
            "Acurácia final: 0.410\n",
            "\n",
            "Test set: Average loss: 1.2038, Accuracy: 371/861 (43%)\n",
            "\n",
            "Train Epoch: 10 [0/2009 (0%)]\tLoss: 1.166868 | Acertos acumulados: 23\n",
            "Train Epoch: 10 [640/2009 (31%)]\tLoss: 1.197030 | Acertos acumulados: 295\n",
            "Train Epoch: 10 [1280/2009 (62%)]\tLoss: 1.058349 | Acertos acumulados: 604\n",
            "Train Epoch: 10 [1920/2009 (94%)]\tLoss: 1.217386 | Acertos acumulados: 887\n",
            "Acertos final: 901\n",
            "Acurácia final: 0.448\n",
            "\n",
            "Test set: Average loss: 1.1679, Accuracy: 384/861 (45%)\n",
            "\n",
            "Train Epoch: 11 [0/2009 (0%)]\tLoss: 1.160189 | Acertos acumulados: 24\n",
            "Train Epoch: 11 [640/2009 (31%)]\tLoss: 1.146216 | Acertos acumulados: 322\n",
            "Train Epoch: 11 [1280/2009 (62%)]\tLoss: 1.045907 | Acertos acumulados: 643\n",
            "Train Epoch: 11 [1920/2009 (94%)]\tLoss: 1.210992 | Acertos acumulados: 941\n",
            "Acertos final: 954\n",
            "Acurácia final: 0.475\n",
            "\n",
            "Test set: Average loss: 1.1610, Accuracy: 402/861 (47%)\n",
            "\n",
            "Train Epoch: 12 [0/2009 (0%)]\tLoss: 1.163556 | Acertos acumulados: 25\n",
            "Train Epoch: 12 [640/2009 (31%)]\tLoss: 1.083919 | Acertos acumulados: 335\n",
            "Train Epoch: 12 [1280/2009 (62%)]\tLoss: 1.055528 | Acertos acumulados: 660\n",
            "Train Epoch: 12 [1920/2009 (94%)]\tLoss: 1.168063 | Acertos acumulados: 950\n",
            "Acertos final: 962\n",
            "Acurácia final: 0.479\n",
            "\n",
            "Test set: Average loss: 1.1403, Accuracy: 417/861 (48%)\n",
            "\n",
            "Train Epoch: 13 [0/2009 (0%)]\tLoss: 1.129137 | Acertos acumulados: 28\n",
            "Train Epoch: 13 [640/2009 (31%)]\tLoss: 1.068350 | Acertos acumulados: 346\n",
            "Train Epoch: 13 [1280/2009 (62%)]\tLoss: 1.027821 | Acertos acumulados: 678\n",
            "Train Epoch: 13 [1920/2009 (94%)]\tLoss: 1.153111 | Acertos acumulados: 988\n",
            "Acertos final: 998\n",
            "Acurácia final: 0.497\n",
            "\n",
            "Test set: Average loss: 1.1133, Accuracy: 432/861 (50%)\n",
            "\n",
            "Train Epoch: 14 [0/2009 (0%)]\tLoss: 1.089167 | Acertos acumulados: 29\n",
            "Train Epoch: 14 [640/2009 (31%)]\tLoss: 1.045343 | Acertos acumulados: 351\n",
            "Train Epoch: 14 [1280/2009 (62%)]\tLoss: 0.999299 | Acertos acumulados: 681\n",
            "Train Epoch: 14 [1920/2009 (94%)]\tLoss: 1.101994 | Acertos acumulados: 1003\n",
            "Acertos final: 1016\n",
            "Acurácia final: 0.506\n",
            "\n",
            "Test set: Average loss: 1.0371, Accuracy: 430/861 (50%)\n",
            "\n",
            "Train Epoch: 15 [0/2009 (0%)]\tLoss: 0.986815 | Acertos acumulados: 30\n",
            "Train Epoch: 15 [640/2009 (31%)]\tLoss: 0.946648 | Acertos acumulados: 353\n",
            "Train Epoch: 15 [1280/2009 (62%)]\tLoss: 0.998999 | Acertos acumulados: 735\n",
            "Train Epoch: 15 [1920/2009 (94%)]\tLoss: 1.066393 | Acertos acumulados: 1114\n",
            "Acertos final: 1125\n",
            "Acurácia final: 0.560\n",
            "\n",
            "Test set: Average loss: 1.0493, Accuracy: 462/861 (54%)\n",
            "\n",
            "Train Epoch: 16 [0/2009 (0%)]\tLoss: 0.943594 | Acertos acumulados: 36\n",
            "Train Epoch: 16 [640/2009 (31%)]\tLoss: 0.960738 | Acertos acumulados: 414\n",
            "Train Epoch: 16 [1280/2009 (62%)]\tLoss: 0.864425 | Acertos acumulados: 820\n",
            "Train Epoch: 16 [1920/2009 (94%)]\tLoss: 1.057802 | Acertos acumulados: 1201\n",
            "Acertos final: 1215\n",
            "Acurácia final: 0.605\n",
            "\n",
            "Test set: Average loss: 0.9741, Accuracy: 497/861 (58%)\n",
            "\n",
            "Train Epoch: 17 [0/2009 (0%)]\tLoss: 0.895567 | Acertos acumulados: 36\n",
            "Train Epoch: 17 [640/2009 (31%)]\tLoss: 0.909608 | Acertos acumulados: 410\n",
            "Train Epoch: 17 [1280/2009 (62%)]\tLoss: 0.841968 | Acertos acumulados: 820\n",
            "Train Epoch: 17 [1920/2009 (94%)]\tLoss: 1.014696 | Acertos acumulados: 1201\n",
            "Acertos final: 1213\n",
            "Acurácia final: 0.604\n",
            "\n",
            "Test set: Average loss: 0.9709, Accuracy: 525/861 (61%)\n",
            "\n",
            "Train Epoch: 18 [0/2009 (0%)]\tLoss: 0.839603 | Acertos acumulados: 38\n",
            "Train Epoch: 18 [640/2009 (31%)]\tLoss: 0.909090 | Acertos acumulados: 421\n",
            "Train Epoch: 18 [1280/2009 (62%)]\tLoss: 0.838034 | Acertos acumulados: 826\n",
            "Train Epoch: 18 [1920/2009 (94%)]\tLoss: 0.964386 | Acertos acumulados: 1217\n",
            "Acertos final: 1229\n",
            "Acurácia final: 0.612\n",
            "\n",
            "Test set: Average loss: 0.9634, Accuracy: 518/861 (60%)\n",
            "\n",
            "Train Epoch: 19 [0/2009 (0%)]\tLoss: 0.797727 | Acertos acumulados: 39\n",
            "Train Epoch: 19 [640/2009 (31%)]\tLoss: 0.898986 | Acertos acumulados: 436\n",
            "Train Epoch: 19 [1280/2009 (62%)]\tLoss: 0.841297 | Acertos acumulados: 841\n",
            "Train Epoch: 19 [1920/2009 (94%)]\tLoss: 0.968886 | Acertos acumulados: 1240\n",
            "Acertos final: 1255\n",
            "Acurácia final: 0.625\n",
            "\n",
            "Test set: Average loss: 0.9284, Accuracy: 520/861 (60%)\n",
            "\n",
            "Train Epoch: 20 [0/2009 (0%)]\tLoss: 0.790120 | Acertos acumulados: 37\n",
            "Train Epoch: 20 [640/2009 (31%)]\tLoss: 0.869911 | Acertos acumulados: 440\n",
            "Train Epoch: 20 [1280/2009 (62%)]\tLoss: 0.790570 | Acertos acumulados: 853\n",
            "Train Epoch: 20 [1920/2009 (94%)]\tLoss: 0.946782 | Acertos acumulados: 1251\n",
            "Acertos final: 1268\n",
            "Acurácia final: 0.631\n",
            "\n",
            "Test set: Average loss: 0.9115, Accuracy: 532/861 (62%)\n",
            "\n",
            "Train Epoch: 21 [0/2009 (0%)]\tLoss: 0.765781 | Acertos acumulados: 42\n",
            "Train Epoch: 21 [640/2009 (31%)]\tLoss: 0.911314 | Acertos acumulados: 449\n",
            "Train Epoch: 21 [1280/2009 (62%)]\tLoss: 0.719892 | Acertos acumulados: 865\n",
            "Train Epoch: 21 [1920/2009 (94%)]\tLoss: 0.936857 | Acertos acumulados: 1270\n",
            "Acertos final: 1283\n",
            "Acurácia final: 0.639\n",
            "\n",
            "Test set: Average loss: 0.9352, Accuracy: 518/861 (60%)\n",
            "\n",
            "Train Epoch: 22 [0/2009 (0%)]\tLoss: 0.786143 | Acertos acumulados: 41\n",
            "Train Epoch: 22 [640/2009 (31%)]\tLoss: 0.861185 | Acertos acumulados: 452\n",
            "Train Epoch: 22 [1280/2009 (62%)]\tLoss: 0.733613 | Acertos acumulados: 876\n",
            "Train Epoch: 22 [1920/2009 (94%)]\tLoss: 0.962970 | Acertos acumulados: 1278\n",
            "Acertos final: 1292\n",
            "Acurácia final: 0.643\n",
            "\n",
            "Test set: Average loss: 0.9484, Accuracy: 496/861 (58%)\n",
            "\n",
            "Train Epoch: 23 [0/2009 (0%)]\tLoss: 0.798731 | Acertos acumulados: 38\n",
            "Train Epoch: 23 [640/2009 (31%)]\tLoss: 0.830967 | Acertos acumulados: 445\n",
            "Train Epoch: 23 [1280/2009 (62%)]\tLoss: 0.738081 | Acertos acumulados: 865\n",
            "Train Epoch: 23 [1920/2009 (94%)]\tLoss: 0.928491 | Acertos acumulados: 1260\n",
            "Acertos final: 1276\n",
            "Acurácia final: 0.635\n",
            "\n",
            "Test set: Average loss: 0.9085, Accuracy: 523/861 (61%)\n",
            "\n",
            "Train Epoch: 24 [0/2009 (0%)]\tLoss: 0.758977 | Acertos acumulados: 40\n",
            "Train Epoch: 24 [640/2009 (31%)]\tLoss: 0.819540 | Acertos acumulados: 444\n",
            "Train Epoch: 24 [1280/2009 (62%)]\tLoss: 0.715216 | Acertos acumulados: 868\n",
            "Train Epoch: 24 [1920/2009 (94%)]\tLoss: 0.939063 | Acertos acumulados: 1276\n",
            "Acertos final: 1289\n",
            "Acurácia final: 0.642\n",
            "\n",
            "Test set: Average loss: 0.9252, Accuracy: 509/861 (59%)\n",
            "\n",
            "Train Epoch: 25 [0/2009 (0%)]\tLoss: 0.757939 | Acertos acumulados: 39\n",
            "Train Epoch: 25 [640/2009 (31%)]\tLoss: 0.832221 | Acertos acumulados: 453\n",
            "Train Epoch: 25 [1280/2009 (62%)]\tLoss: 0.682612 | Acertos acumulados: 884\n",
            "Train Epoch: 25 [1920/2009 (94%)]\tLoss: 0.901260 | Acertos acumulados: 1289\n",
            "Acertos final: 1306\n",
            "Acurácia final: 0.650\n",
            "\n",
            "Test set: Average loss: 0.8919, Accuracy: 533/861 (62%)\n",
            "\n",
            "Train Epoch: 26 [0/2009 (0%)]\tLoss: 0.736889 | Acertos acumulados: 41\n",
            "Train Epoch: 26 [640/2009 (31%)]\tLoss: 0.800202 | Acertos acumulados: 453\n",
            "Train Epoch: 26 [1280/2009 (62%)]\tLoss: 0.677923 | Acertos acumulados: 888\n",
            "Train Epoch: 26 [1920/2009 (94%)]\tLoss: 0.915835 | Acertos acumulados: 1298\n",
            "Acertos final: 1316\n",
            "Acurácia final: 0.655\n",
            "\n",
            "Test set: Average loss: 0.8846, Accuracy: 545/861 (63%)\n",
            "\n",
            "Train Epoch: 27 [0/2009 (0%)]\tLoss: 0.731817 | Acertos acumulados: 41\n",
            "Train Epoch: 27 [640/2009 (31%)]\tLoss: 0.807293 | Acertos acumulados: 458\n",
            "Train Epoch: 27 [1280/2009 (62%)]\tLoss: 0.684702 | Acertos acumulados: 895\n",
            "Train Epoch: 27 [1920/2009 (94%)]\tLoss: 0.861608 | Acertos acumulados: 1316\n",
            "Acertos final: 1330\n",
            "Acurácia final: 0.662\n",
            "\n",
            "Test set: Average loss: 0.8692, Accuracy: 548/861 (64%)\n",
            "\n",
            "Train Epoch: 28 [0/2009 (0%)]\tLoss: 0.723859 | Acertos acumulados: 38\n",
            "Train Epoch: 28 [640/2009 (31%)]\tLoss: 0.821350 | Acertos acumulados: 460\n",
            "Train Epoch: 28 [1280/2009 (62%)]\tLoss: 0.652031 | Acertos acumulados: 899\n",
            "Train Epoch: 28 [1920/2009 (94%)]\tLoss: 0.868865 | Acertos acumulados: 1323\n",
            "Acertos final: 1339\n",
            "Acurácia final: 0.667\n",
            "\n",
            "Test set: Average loss: 0.8625, Accuracy: 543/861 (63%)\n",
            "\n",
            "Train Epoch: 29 [0/2009 (0%)]\tLoss: 0.722628 | Acertos acumulados: 39\n",
            "Train Epoch: 29 [640/2009 (31%)]\tLoss: 0.808520 | Acertos acumulados: 455\n",
            "Train Epoch: 29 [1280/2009 (62%)]\tLoss: 0.618874 | Acertos acumulados: 903\n",
            "Train Epoch: 29 [1920/2009 (94%)]\tLoss: 0.850022 | Acertos acumulados: 1313\n",
            "Acertos final: 1329\n",
            "Acurácia final: 0.662\n",
            "\n",
            "Test set: Average loss: 0.8532, Accuracy: 546/861 (63%)\n",
            "\n",
            "Train Epoch: 30 [0/2009 (0%)]\tLoss: 0.703337 | Acertos acumulados: 39\n",
            "Train Epoch: 30 [640/2009 (31%)]\tLoss: 0.817085 | Acertos acumulados: 456\n",
            "Train Epoch: 30 [1280/2009 (62%)]\tLoss: 0.613211 | Acertos acumulados: 898\n",
            "Train Epoch: 30 [1920/2009 (94%)]\tLoss: 0.902524 | Acertos acumulados: 1303\n",
            "Acertos final: 1319\n",
            "Acurácia final: 0.657\n",
            "\n",
            "Test set: Average loss: 0.8471, Accuracy: 549/861 (64%)\n",
            "\n"
          ]
        }
      ],
      "source": [
        "use_cuda = torch.cuda.is_available()\n",
        "\n",
        "# torch.manual_seed(200)\n",
        "\n",
        "device = torch.device(\"cuda\" if use_cuda else \"cpu\")\n",
        "\n",
        "train_kwargs = {'batch_size': 64} #tamanho do batch para treino\n",
        "test_kwargs = {'batch_size': 64} #tamanho do batch para teste\n",
        "if use_cuda:\n",
        "    cuda_kwargs = {'num_workers': 1,\n",
        "                    'pin_memory': True,\n",
        "                    'shuffle': True}\n",
        "    train_kwargs.update(cuda_kwargs)\n",
        "    test_kwargs.update(cuda_kwargs)\n",
        "\n",
        "train_loader = torch.utils.data.DataLoader(dataset_train,**train_kwargs, collate_fn=custom_collate)\n",
        "test_loader = torch.utils.data.DataLoader(dataset_test, **test_kwargs, collate_fn=custom_collate)\n",
        "\n",
        "model = Net().to(device)\n",
        "optimizer = optim.Adam(model.parameters(), lr=0.003)\n",
        "criterion = F.nll_loss\n",
        "\n",
        "best_acc = test(model, device, test_loader, criterion)\n",
        "\n",
        "epochs = 30\n",
        "scheduler = StepLR(optimizer, step_size=5, gamma=0.7) #Reduz a taxa de aprendizado a cada 5 épocas, multiplicando a mesma por 0.7\n",
        "\n",
        "for epoch in range(1, epochs + 1):\n",
        "    train(10, False, model, device, train_loader, optimizer, epoch, criterion)\n",
        "    acc = test(model, device, test_loader, criterion)\n",
        "    if (acc > best_acc): #estava acc < best_acc\n",
        "      best_acc = acc\n",
        "      torch.save(model.state_dict(), \"brain_tumor_nn.pt\")\n",
        "    scheduler.step()"
      ]
    },
    {
      "cell_type": "code",
      "execution_count": null,
      "metadata": {
        "id": "i0w-A_eitodH"
      },
      "outputs": [],
      "source": [
        "#Salvar um arquivo com os posos do modelo treinado\n",
        "torch.save(model.state_dict(), \"brain_tumor_nn.pt\")"
      ]
    },
    {
      "cell_type": "code",
      "execution_count": null,
      "metadata": {
        "colab": {
          "base_uri": "https://localhost:8080/"
        },
        "id": "01vM6UVACVmh",
        "outputId": "cfad210f-ac76-498b-b8bc-de6e6819c544"
      },
      "outputs": [
        {
          "output_type": "execute_result",
          "data": {
            "text/plain": [
              "Net(\n",
              "  (fc): Sequential(\n",
              "    (0): Linear(in_features=16384, out_features=128, bias=True)\n",
              "    (1): ReLU()\n",
              "    (2): Linear(in_features=128, out_features=256, bias=True)\n",
              "    (3): ReLU()\n",
              "    (4): Linear(in_features=256, out_features=512, bias=True)\n",
              "    (5): ReLU()\n",
              "    (6): Linear(in_features=512, out_features=1024, bias=True)\n",
              "    (7): ReLU()\n",
              "    (8): Linear(in_features=1024, out_features=2048, bias=True)\n",
              "    (9): ReLU()\n",
              "    (10): Linear(in_features=2048, out_features=4096, bias=True)\n",
              "    (11): ReLU()\n",
              "    (12): Linear(in_features=4096, out_features=2048, bias=True)\n",
              "    (13): ReLU()\n",
              "    (14): Linear(in_features=2048, out_features=1024, bias=True)\n",
              "    (15): ReLU()\n",
              "    (16): Linear(in_features=1024, out_features=512, bias=True)\n",
              "    (17): ReLU()\n",
              "    (18): Linear(in_features=512, out_features=256, bias=True)\n",
              "    (19): ReLU()\n",
              "    (20): Linear(in_features=256, out_features=128, bias=True)\n",
              "    (21): ReLU()\n",
              "    (22): Linear(in_features=128, out_features=4, bias=True)\n",
              "  )\n",
              ")"
            ]
          },
          "metadata": {},
          "execution_count": 23
        }
      ],
      "source": [
        "model.load_state_dict(torch.load(\"/content/brain_tumor_nn.pt\"))\n",
        "model.eval()\n"
      ]
    },
    {
      "cell_type": "markdown",
      "source": [
        "###Matriz de Confusão com os dados de teste"
      ],
      "metadata": {
        "id": "E7NarrFpEmdd"
      }
    },
    {
      "cell_type": "code",
      "execution_count": null,
      "metadata": {
        "colab": {
          "base_uri": "https://localhost:8080/",
          "height": 693
        },
        "id": "fATqfzq4t0K_",
        "outputId": "ec9884f3-54b5-4f9c-c513-61433c4dfa79"
      },
      "outputs": [
        {
          "output_type": "stream",
          "name": "stderr",
          "text": [
            "Testing on Full Test Set: 100%|██████████| 14/14 [00:02<00:00,  4.79it/s]\n"
          ]
        },
        {
          "output_type": "stream",
          "name": "stdout",
          "text": [
            "\n",
            "Relatório de Classificação no conjunto de teste completo:\n",
            "                   precision    recall  f1-score   support\n",
            "\n",
            "    glioma_tumor       0.60      0.74      0.66       259\n",
            "meningioma_tumor       0.51      0.55      0.53       251\n",
            "        no_tumor       0.67      0.02      0.04       109\n",
            " pituitary_tumor       0.79      0.89      0.84       242\n",
            "\n",
            "        accuracy                           0.64       861\n",
            "       macro avg       0.64      0.55      0.52       861\n",
            "    weighted avg       0.64      0.64      0.59       861\n",
            "\n"
          ]
        },
        {
          "output_type": "display_data",
          "data": {
            "text/plain": [
              "<Figure size 640x480 with 2 Axes>"
            ],
            "image/png": "[encoded data removed]"
          },
          "metadata": {}
        }
      ],
      "source": [
        "def test_on_full_test_set(model, test_loader, device):\n",
        "    model.eval()  # Coloca o modelo em modo de avaliação\n",
        "    all_preds = []\n",
        "    all_labels = []\n",
        "\n",
        "    with torch.no_grad():  # Desativa o cálculo do gradiente para economizar memória e tempo\n",
        "        for inputs, labels in tqdm(test_loader, desc=\"Testing on Full Test Set\"):\n",
        "            inputs = inputs.to(device).view(-1, 128 * 128)\n",
        "            labels = labels.to(device)\n",
        "\n",
        "            outputs = model(inputs)\n",
        "            _, predicted = torch.max(outputs, 1)  # Obtém a classe com maior probabilidade\n",
        "\n",
        "            all_preds.extend(predicted.cpu().numpy())\n",
        "            all_labels.extend(labels.cpu().numpy())\n",
        "\n",
        "    # Calcula as métricas\n",
        "    accuracy = accuracy_score(all_labels, all_preds)\n",
        "    report = classification_report(all_labels, all_preds, target_names=dataset_test.dataset.classes)\n",
        "    cm = confusion_matrix(all_labels, all_preds)\n",
        "\n",
        "    # print(f\"Acurácia no conjunto de teste completo: {accuracy:.4f}\")\n",
        "    print(\"\\nRelatório de Classificação no conjunto de teste completo:\\n\", report)\n",
        "    ConfusionMatrixDisplay(cm, display_labels=dataset_test.dataset.classes).plot(cmap='Blues')\n",
        "\n",
        "    model.train()  # Coloca o modelo de volta em modo de treinamento (boa prática)\n",
        "\n",
        "# Supondo que você tenha seu modelo treinado chamado 'model' e seu train_loader\n",
        "device = torch.device(\"cuda\" if torch.cuda.is_available() else \"cpu\")\n",
        "model.to(device)\n",
        "\n",
        "test_on_full_test_set(model, test_loader, device)\n"
      ]
    },
    {
      "cell_type": "markdown",
      "source": [
        "###Matriz de Confusão com os dados de treino"
      ],
      "metadata": {
        "id": "kptShQRFEqQO"
      }
    },
    {
      "cell_type": "code",
      "source": [
        "def test_on_full_train_set(model, train_loader, device):\n",
        "    model.eval()  # Coloca o modelo em modo de avaliação\n",
        "    all_preds = []\n",
        "    all_labels = []\n",
        "\n",
        "    with torch.no_grad():  # Desativa o cálculo do gradiente para economizar memória e tempo\n",
        "        for inputs, labels in tqdm(train_loader, desc=\"Testing on Full Train Set\"):\n",
        "            inputs = inputs.to(device).view(-1, 128 * 128)  # Apenas necessário se for um modelo denso (MLP)\n",
        "            labels = labels.to(device)\n",
        "\n",
        "            outputs = model(inputs)\n",
        "            _, predicted = torch.max(outputs, 1)  # Obtém a classe com maior probabilidade\n",
        "\n",
        "            all_preds.extend(predicted.cpu().numpy())\n",
        "            all_labels.extend(labels.cpu().numpy())\n",
        "\n",
        "    # Calcula as métricas\n",
        "    accuracy = accuracy_score(all_labels, all_preds)\n",
        "    report = classification_report(all_labels, all_preds, target_names=dataset_train.dataset.classes)\n",
        "    cm = confusion_matrix(all_labels, all_preds)\n",
        "\n",
        "    # print(f\"Acurácia no conjunto de treinamento: {accuracy:.4f}\")\n",
        "    print(\"\\nRelatório de Classificação no conjunto de treinamento:\\n\", report)\n",
        "\n",
        "    ConfusionMatrixDisplay(cm, display_labels=dataset_train.dataset.classes).plot(cmap='Blues')\n",
        "\n",
        "\n",
        "    model.train()  # Coloca o modelo de volta em modo de treinamento (boa prática)\n",
        "\n",
        "# Supondo que você tenha seu modelo treinado chamado 'model' e seu train_loader\n",
        "device = torch.device(\"cuda\" if torch.cuda.is_available() else \"cpu\")\n",
        "model.to(device)\n",
        "\n",
        "test_on_full_train_set(model, train_loader, device)"
      ],
      "metadata": {
        "colab": {
          "base_uri": "https://localhost:8080/",
          "height": 693
        },
        "id": "tUSsd4d1gkoW",
        "outputId": "b7dfeb2e-6486-45ab-8682-a718f55264cd"
      },
      "execution_count": null,
      "outputs": [
        {
          "output_type": "stream",
          "name": "stderr",
          "text": [
            "Testing on Full Train Set: 100%|██████████| 32/32 [00:06<00:00,  4.79it/s]\n"
          ]
        },
        {
          "output_type": "stream",
          "name": "stdout",
          "text": [
            "\n",
            "Relatório de Classificação no conjunto de treinamento:\n",
            "                   precision    recall  f1-score   support\n",
            "\n",
            "    glioma_tumor       0.63      0.76      0.69       567\n",
            "meningioma_tumor       0.53      0.57      0.55       571\n",
            "        no_tumor       0.89      0.03      0.05       286\n",
            " pituitary_tumor       0.79      0.95      0.86       585\n",
            "\n",
            "        accuracy                           0.66      2009\n",
            "       macro avg       0.71      0.58      0.54      2009\n",
            "    weighted avg       0.68      0.66      0.61      2009\n",
            "\n"
          ]
        },
        {
          "output_type": "display_data",
          "data": {
            "text/plain": [
              "<Figure size 640x480 with 2 Axes>"
            ],
            "image/png": "[encoded data removed]"
          },
          "metadata": {}
        }
      ]
    },
    {
      "cell_type": "markdown",
      "source": [
        "# Conclusão"
      ],
      "metadata": {
        "id": "RxsOIXk2Nt_D"
      }
    },
    {
      "cell_type": "markdown",
      "source": [
        "\n",
        "Neste projeto, foi desenvolvida uma rede neural para realizar a classificação  de imagens de ressonância magnética do cérebro, com o objetivo de identificar a ausência ou presença de tumores cerebrais e seus tipos. O modelo foi treinado utilizando uma arquitetura simples de rede neural totalmente conectada (MLP), aplicando técnicas de pré-processamento de imagens e validação com divisão entre conjuntos de treino e teste.\n",
        "\n",
        "Os resultados demonstraram que o modelo é capaz de aprender padrões nas imagens e obter uma acurácia razoável de classificação, conforme evidenciado pelas matrizes de confusão e relatórios de desempenho.\n",
        "<br>\n",
        "\n",
        "**Relatório de Classificação no conjunto de teste completo:**\n",
        "\n",
        "                   precision    recall  f1-score   support\n",
        "\n",
        "    glioma_tumor       0.60      0.74      0.66       259\n",
        "    meningioma_tumor   0.51      0.55      0.53       251\n",
        "    no_tumor           0.67      0.02      0.04       109\n",
        "    pituitary_tumor    0.79      0.89      0.84       242\n",
        "\n",
        "        accuracy                           0.64       861\n",
        "       macro avg       0.64      0.55      0.52       861\n",
        "    weighted avg       0.64      0.64      0.59       861\n",
        "\n",
        "\n",
        "\n",
        "\n",
        "  **Relatório de Classificação no conjunto de treinamento:**\n",
        "\n",
        "                     precision    recall  f1-score   support\n",
        "    glioma_tumor       0.62      0.75      0.68       567\n",
        "    meningioma_tumor   0.53      0.57      0.55       571\n",
        "    no_tumor           0.89      0.03      0.05       286\n",
        "    pituitary_tumor    0.79      0.95      0.86       585\n",
        "\n",
        "        accuracy                           0.65      2009\n",
        "       macro avg       0.71      0.57      0.54      2009\n",
        "    weighted avg       0.68      0.65      0.61      2009\n",
        "\n",
        "\n",
        "Com base nas demais Métricas (precisão, recall e F1-score) o modelo possui bom desempenho na classificação de imagens onde existe Tumor. Porém o modelo teve dificuldade em reconhecer e classificar imagens sem tumores (baixo valor de recall 0.03).\n",
        "\n",
        "Próximos passos e oportunidades de melhoria seriam:\n",
        "\n",
        "- Explorar arquiteturas mais complexas e adequadas para imagens, como redes convolucionais (CNNs);\n",
        "\n",
        "- Utilizar Transfer Learning para reutilizar modelos já treinados em grandes bancos de dados em conjunto com o modelo original;\n",
        "\n",
        "- Realizar validação cruzada para obter uma avaliação mais confiável;\n",
        "\n",
        "- Considerando que a quantidade de imagens que não possuem tumor é menos da metade das existentes para cada uma das outras classes, seria interessante obter mais imagens desse tipo, ou gerar novas imagens a partir de transformações.\n",
        "\n",
        "\n"
      ],
      "metadata": {
        "id": "y8HvBKKmPtMH"
      }
    }
  ],
  "metadata": {
    "accelerator": "GPU",
    "colab": {
      "provenance": [],
      "gpuType": "T4"
    },
    "kernelspec": {
      "display_name": "Python 3",
      "name": "python3"
    },
    "language_info": {
      "name": "python",
      "version": "3.10.2"
    },
    "vscode": {
      "interpreter": {
        "hash": "5fe3e6f0cdaab8afdc61c52912fda83f7c0a71baaea1897dd7498e2df01e69ec"
      }
    }
  },
  "nbformat": 4,
  "nbformat_minor": 0
}